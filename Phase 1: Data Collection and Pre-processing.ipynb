{
 "cells": [
  {
   "cell_type": "markdown",
   "source": [
    "# Phase 1: Data Collection and Pre-Processing\n",
    "**Shreya Das**\n",
    "\n",
    "In this phase, we will retrieve biological activity data from ChEMBL database for RET-specific molecules that will help supplement constructing a machine learning model for drug discovery.\n",
    "\n",
    "NOTE: The structure and layout of this phase and the project is inspired by **The Data Professor** on Youtube. The findings for RET molecules and drugs are original and investigated by the author (Shreya Das)."
   ],
   "metadata": {
    "collapsed": false
   },
   "id": "25dc0fe0009128e3"
  },
  {
   "cell_type": "markdown",
   "source": [
    "## Installing Libraries\n",
    "\n",
    "We need to install the ChEMBL library in order to retrieve bioactivity data."
   ],
   "metadata": {
    "collapsed": false
   },
   "id": "4b2741dcfd12e336"
  },
  {
   "cell_type": "code",
   "outputs": [
    {
     "ename": "OSError",
     "evalue": "\"/usr/local/bin/bash\" shell not found",
     "output_type": "error",
     "traceback": [
      "\u001B[0;31m---------------------------------------------------------------------------\u001B[0m",
      "\u001B[0;31mOSError\u001B[0m                                   Traceback (most recent call last)",
      "Cell \u001B[0;32mIn[4], line 1\u001B[0m\n\u001B[0;32m----> 1\u001B[0m \u001B[43mget_ipython\u001B[49m\u001B[43m(\u001B[49m\u001B[43m)\u001B[49m\u001B[38;5;241;43m.\u001B[39;49m\u001B[43msystem\u001B[49m\u001B[43m(\u001B[49m\u001B[38;5;124;43m'\u001B[39;49m\u001B[38;5;124;43m pip install chembl_webresource_client\u001B[39;49m\u001B[38;5;124;43m'\u001B[39;49m\u001B[43m)\u001B[49m\n",
      "File \u001B[0;32m~/PycharmProjects/Bioinformatics Project/.venv/lib/python3.12/site-packages/ipykernel/zmqshell.py:657\u001B[0m, in \u001B[0;36mZMQInteractiveShell.system_piped\u001B[0;34m(self, cmd)\u001B[0m\n\u001B[1;32m    655\u001B[0m         \u001B[38;5;28mself\u001B[39m\u001B[38;5;241m.\u001B[39muser_ns[\u001B[38;5;124m\"\u001B[39m\u001B[38;5;124m_exit_code\u001B[39m\u001B[38;5;124m\"\u001B[39m] \u001B[38;5;241m=\u001B[39m system(cmd)\n\u001B[1;32m    656\u001B[0m \u001B[38;5;28;01melse\u001B[39;00m:\n\u001B[0;32m--> 657\u001B[0m     \u001B[38;5;28mself\u001B[39m\u001B[38;5;241m.\u001B[39muser_ns[\u001B[38;5;124m\"\u001B[39m\u001B[38;5;124m_exit_code\u001B[39m\u001B[38;5;124m\"\u001B[39m] \u001B[38;5;241m=\u001B[39m \u001B[43msystem\u001B[49m\u001B[43m(\u001B[49m\u001B[38;5;28;43mself\u001B[39;49m\u001B[38;5;241;43m.\u001B[39;49m\u001B[43mvar_expand\u001B[49m\u001B[43m(\u001B[49m\u001B[43mcmd\u001B[49m\u001B[43m,\u001B[49m\u001B[43m \u001B[49m\u001B[43mdepth\u001B[49m\u001B[38;5;241;43m=\u001B[39;49m\u001B[38;5;241;43m1\u001B[39;49m\u001B[43m)\u001B[49m\u001B[43m)\u001B[49m\n",
      "File \u001B[0;32m~/PycharmProjects/Bioinformatics Project/.venv/lib/python3.12/site-packages/IPython/utils/_process_posix.py:151\u001B[0m, in \u001B[0;36mProcessHandler.system\u001B[0;34m(self, cmd)\u001B[0m\n\u001B[1;32m    149\u001B[0m     child \u001B[38;5;241m=\u001B[39m pexpect\u001B[38;5;241m.\u001B[39mspawnb(\u001B[38;5;28mself\u001B[39m\u001B[38;5;241m.\u001B[39msh, args\u001B[38;5;241m=\u001B[39m[\u001B[38;5;124m'\u001B[39m\u001B[38;5;124m-c\u001B[39m\u001B[38;5;124m'\u001B[39m, cmd]) \u001B[38;5;66;03m# Pexpect-U\u001B[39;00m\n\u001B[1;32m    150\u001B[0m \u001B[38;5;28;01melse\u001B[39;00m:\n\u001B[0;32m--> 151\u001B[0m     child \u001B[38;5;241m=\u001B[39m pexpect\u001B[38;5;241m.\u001B[39mspawn(\u001B[38;5;28;43mself\u001B[39;49m\u001B[38;5;241;43m.\u001B[39;49m\u001B[43msh\u001B[49m, args\u001B[38;5;241m=\u001B[39m[\u001B[38;5;124m'\u001B[39m\u001B[38;5;124m-c\u001B[39m\u001B[38;5;124m'\u001B[39m, cmd])  \u001B[38;5;66;03m# Vanilla Pexpect\u001B[39;00m\n\u001B[1;32m    152\u001B[0m flush \u001B[38;5;241m=\u001B[39m sys\u001B[38;5;241m.\u001B[39mstdout\u001B[38;5;241m.\u001B[39mflush\n\u001B[1;32m    153\u001B[0m \u001B[38;5;28;01mwhile\u001B[39;00m \u001B[38;5;28;01mTrue\u001B[39;00m:\n\u001B[1;32m    154\u001B[0m     \u001B[38;5;66;03m# res is the index of the pattern that caused the match, so we\u001B[39;00m\n\u001B[1;32m    155\u001B[0m     \u001B[38;5;66;03m# know whether we've finished (if we matched EOF) or not\u001B[39;00m\n",
      "File \u001B[0;32m~/PycharmProjects/Bioinformatics Project/.venv/lib/python3.12/site-packages/IPython/utils/_process_posix.py:56\u001B[0m, in \u001B[0;36mProcessHandler.sh\u001B[0;34m(self)\u001B[0m\n\u001B[1;32m     54\u001B[0m     \u001B[38;5;28mself\u001B[39m\u001B[38;5;241m.\u001B[39m_sh \u001B[38;5;241m=\u001B[39m pexpect\u001B[38;5;241m.\u001B[39mwhich(shell_name)\n\u001B[1;32m     55\u001B[0m     \u001B[38;5;28;01mif\u001B[39;00m \u001B[38;5;28mself\u001B[39m\u001B[38;5;241m.\u001B[39m_sh \u001B[38;5;129;01mis\u001B[39;00m \u001B[38;5;28;01mNone\u001B[39;00m:\n\u001B[0;32m---> 56\u001B[0m         \u001B[38;5;28;01mraise\u001B[39;00m \u001B[38;5;167;01mOSError\u001B[39;00m(\u001B[38;5;124m'\u001B[39m\u001B[38;5;124m\"\u001B[39m\u001B[38;5;132;01m{}\u001B[39;00m\u001B[38;5;124m\"\u001B[39m\u001B[38;5;124m shell not found\u001B[39m\u001B[38;5;124m'\u001B[39m\u001B[38;5;241m.\u001B[39mformat(shell_name))\n\u001B[1;32m     58\u001B[0m \u001B[38;5;28;01mreturn\u001B[39;00m \u001B[38;5;28mself\u001B[39m\u001B[38;5;241m.\u001B[39m_sh\n",
      "\u001B[0;31mOSError\u001B[0m: \"/usr/local/bin/bash\" shell not found"
     ]
    }
   ],
   "source": [
    "! pip install chembl_webresource_client"
   ],
   "metadata": {
    "collapsed": true,
    "ExecuteTime": {
     "end_time": "2024-08-05T22:49:49.159117Z",
     "start_time": "2024-08-05T22:49:49.089917Z"
    }
   },
   "id": "initial_id",
   "execution_count": 4
  },
  {
   "cell_type": "markdown",
   "source": [
    "## Importing Libraries\n",
    "\n",
    "We will be using pandas package for data manipulation of the data that we obtain from ChEMBL and import new_client from the chembl_webresource_client to aid in a targeted search."
   ],
   "metadata": {
    "collapsed": false
   },
   "id": "4335f83182006f96"
  },
  {
   "cell_type": "code",
   "outputs": [],
   "source": [
    "import pandas as pd\n",
    "from chembl_webresource_client.new_client import new_client"
   ],
   "metadata": {
    "collapsed": false,
    "ExecuteTime": {
     "end_time": "2024-08-05T22:49:54.775673Z",
     "start_time": "2024-08-05T22:49:54.771038Z"
    }
   },
   "id": "51d4947e611dc2e",
   "execution_count": 5
  },
  {
   "cell_type": "markdown",
   "source": [
    "## Search for Target Protein: RET\n",
    "\n",
    "Here, we use the **target** object to create a targeted search for RET in the imported ChEMBL database. \n",
    "\n",
    "Then we use the search() function to pass the name of the target protein as a string parameter. \n",
    "\n",
    "Finally, we organize the found targets in the DB into a pandas dataframe with the rows representing different drugs and the columns representing different information about these drugs.\n",
    "\n",
    "NOTE: that the number of targets seen here should match the number of targets found on ChEMBL website under the \"Targets\" tab. As of 2024-08-04, the number of targets for RET is 10."
   ],
   "metadata": {
    "collapsed": false
   },
   "id": "be9c32e727e75dd8"
  },
  {
   "cell_type": "code",
   "outputs": [
    {
     "data": {
      "text/plain": "                                    cross_references           organism  \\\n0                                                 []       Mus musculus   \n1                                                 []  Rattus norvegicus   \n2                                                 []       Mus musculus   \n3  [{'xref_id': 'P07949', 'xref_name': None, 'xre...       Homo sapiens   \n4                                                 []       Homo sapiens   \n5                                                 []       Homo sapiens   \n6                                                 []       Homo sapiens   \n7                                                 []       Homo sapiens   \n8                                                 []       Homo sapiens   \n9                                                 []       Homo sapiens   \n\n                                           pref_name  score  \\\n0  Proto-oncogene tyrosine-protein kinase recepto...   19.0   \n1  Proto-oncogene tyrosine-protein kinase recepto...   19.0   \n2  Proto-oncogene tyrosine-protein kinase recepto...   19.0   \n3               Tyrosine-protein kinase receptor RET   18.0   \n4                         Centrosomal protein 43/RET   18.0   \n5  Proto-oncogene tyrosine-protein kinase recepto...   17.0   \n6  Kinesin-1 heavy chain/ Tyrosine-protein kinase...   17.0   \n7  Coiled-coil domain-containing protein 6/Tyrosi...   17.0   \n8                       GDNF family receptor alpha-1   10.0   \n9                 E3 ubiquitin-protein ligase TRIM33    9.0   \n\n   species_group_flag target_chembl_id  \\\n0               False    CHEMBL2034799   \n1               False    CHEMBL4295641   \n2               False    CHEMBL5291969   \n3               False       CHEMBL2041   \n4               False    CHEMBL4523602   \n5               False    CHEMBL3430877   \n6               False    CHEMBL3430888   \n7               False    CHEMBL3430904   \n8               False    CHEMBL3833481   \n9               False    CHEMBL2176772   \n\n                                   target_components       target_type  tax_id  \n0  [{'accession': 'P35546', 'component_descriptio...    SINGLE PROTEIN   10090  \n1  [{'accession': 'G3V9H8', 'component_descriptio...    SINGLE PROTEIN   10116  \n2  [{'accession': 'P35546', 'component_descriptio...  CHIMERIC PROTEIN   10090  \n3  [{'accession': 'P07949', 'component_descriptio...    SINGLE PROTEIN    9606  \n4  [{'accession': 'P07949', 'component_descriptio...  CHIMERIC PROTEIN    9606  \n5  [{'accession': 'P07949', 'component_descriptio...  CHIMERIC PROTEIN    9606  \n6  [{'accession': 'P07949', 'component_descriptio...  CHIMERIC PROTEIN    9606  \n7  [{'accession': 'P07949', 'component_descriptio...  CHIMERIC PROTEIN    9606  \n8  [{'accession': 'P56159', 'component_descriptio...    SINGLE PROTEIN    9606  \n9  [{'accession': 'Q9UPN9', 'component_descriptio...    SINGLE PROTEIN    9606  ",
      "text/html": "<div>\n<style scoped>\n    .dataframe tbody tr th:only-of-type {\n        vertical-align: middle;\n    }\n\n    .dataframe tbody tr th {\n        vertical-align: top;\n    }\n\n    .dataframe thead th {\n        text-align: right;\n    }\n</style>\n<table border=\"1\" class=\"dataframe\">\n  <thead>\n    <tr style=\"text-align: right;\">\n      <th></th>\n      <th>cross_references</th>\n      <th>organism</th>\n      <th>pref_name</th>\n      <th>score</th>\n      <th>species_group_flag</th>\n      <th>target_chembl_id</th>\n      <th>target_components</th>\n      <th>target_type</th>\n      <th>tax_id</th>\n    </tr>\n  </thead>\n  <tbody>\n    <tr>\n      <th>0</th>\n      <td>[]</td>\n      <td>Mus musculus</td>\n      <td>Proto-oncogene tyrosine-protein kinase recepto...</td>\n      <td>19.0</td>\n      <td>False</td>\n      <td>CHEMBL2034799</td>\n      <td>[{'accession': 'P35546', 'component_descriptio...</td>\n      <td>SINGLE PROTEIN</td>\n      <td>10090</td>\n    </tr>\n    <tr>\n      <th>1</th>\n      <td>[]</td>\n      <td>Rattus norvegicus</td>\n      <td>Proto-oncogene tyrosine-protein kinase recepto...</td>\n      <td>19.0</td>\n      <td>False</td>\n      <td>CHEMBL4295641</td>\n      <td>[{'accession': 'G3V9H8', 'component_descriptio...</td>\n      <td>SINGLE PROTEIN</td>\n      <td>10116</td>\n    </tr>\n    <tr>\n      <th>2</th>\n      <td>[]</td>\n      <td>Mus musculus</td>\n      <td>Proto-oncogene tyrosine-protein kinase recepto...</td>\n      <td>19.0</td>\n      <td>False</td>\n      <td>CHEMBL5291969</td>\n      <td>[{'accession': 'P35546', 'component_descriptio...</td>\n      <td>CHIMERIC PROTEIN</td>\n      <td>10090</td>\n    </tr>\n    <tr>\n      <th>3</th>\n      <td>[{'xref_id': 'P07949', 'xref_name': None, 'xre...</td>\n      <td>Homo sapiens</td>\n      <td>Tyrosine-protein kinase receptor RET</td>\n      <td>18.0</td>\n      <td>False</td>\n      <td>CHEMBL2041</td>\n      <td>[{'accession': 'P07949', 'component_descriptio...</td>\n      <td>SINGLE PROTEIN</td>\n      <td>9606</td>\n    </tr>\n    <tr>\n      <th>4</th>\n      <td>[]</td>\n      <td>Homo sapiens</td>\n      <td>Centrosomal protein 43/RET</td>\n      <td>18.0</td>\n      <td>False</td>\n      <td>CHEMBL4523602</td>\n      <td>[{'accession': 'P07949', 'component_descriptio...</td>\n      <td>CHIMERIC PROTEIN</td>\n      <td>9606</td>\n    </tr>\n    <tr>\n      <th>5</th>\n      <td>[]</td>\n      <td>Homo sapiens</td>\n      <td>Proto-oncogene tyrosine-protein kinase recepto...</td>\n      <td>17.0</td>\n      <td>False</td>\n      <td>CHEMBL3430877</td>\n      <td>[{'accession': 'P07949', 'component_descriptio...</td>\n      <td>CHIMERIC PROTEIN</td>\n      <td>9606</td>\n    </tr>\n    <tr>\n      <th>6</th>\n      <td>[]</td>\n      <td>Homo sapiens</td>\n      <td>Kinesin-1 heavy chain/ Tyrosine-protein kinase...</td>\n      <td>17.0</td>\n      <td>False</td>\n      <td>CHEMBL3430888</td>\n      <td>[{'accession': 'P07949', 'component_descriptio...</td>\n      <td>CHIMERIC PROTEIN</td>\n      <td>9606</td>\n    </tr>\n    <tr>\n      <th>7</th>\n      <td>[]</td>\n      <td>Homo sapiens</td>\n      <td>Coiled-coil domain-containing protein 6/Tyrosi...</td>\n      <td>17.0</td>\n      <td>False</td>\n      <td>CHEMBL3430904</td>\n      <td>[{'accession': 'P07949', 'component_descriptio...</td>\n      <td>CHIMERIC PROTEIN</td>\n      <td>9606</td>\n    </tr>\n    <tr>\n      <th>8</th>\n      <td>[]</td>\n      <td>Homo sapiens</td>\n      <td>GDNF family receptor alpha-1</td>\n      <td>10.0</td>\n      <td>False</td>\n      <td>CHEMBL3833481</td>\n      <td>[{'accession': 'P56159', 'component_descriptio...</td>\n      <td>SINGLE PROTEIN</td>\n      <td>9606</td>\n    </tr>\n    <tr>\n      <th>9</th>\n      <td>[]</td>\n      <td>Homo sapiens</td>\n      <td>E3 ubiquitin-protein ligase TRIM33</td>\n      <td>9.0</td>\n      <td>False</td>\n      <td>CHEMBL2176772</td>\n      <td>[{'accession': 'Q9UPN9', 'component_descriptio...</td>\n      <td>SINGLE PROTEIN</td>\n      <td>9606</td>\n    </tr>\n  </tbody>\n</table>\n</div>"
     },
     "execution_count": 6,
     "metadata": {},
     "output_type": "execute_result"
    }
   ],
   "source": [
    "target = new_client.target\n",
    "target_query = target.search('RET')\n",
    "targets = pd.DataFrame.from_dict(target_query)\n",
    "targets"
   ],
   "metadata": {
    "collapsed": false,
    "ExecuteTime": {
     "end_time": "2024-08-05T22:49:58.130972Z",
     "start_time": "2024-08-05T22:49:56.756020Z"
    }
   },
   "id": "f473ac275e3ae464",
   "execution_count": 6
  },
  {
   "cell_type": "markdown",
   "source": [
    "## Select and retrieve bioactivity data for *Human RET* (fourth entry)\n",
    "\n",
    "We assign the fourth entry (corresponding to *Human RET*) to the selected_target variable. Make sure this is correct using the ChEMBL website as a reference. Also the entry may change depending on the date. As of 2024-08-04, the ChEMBL ID for CHEMBL2041 is the fourth entry.\n",
    "\n",
    "NOTE: The fourth entry has id number 3."
   ],
   "metadata": {
    "collapsed": false
   },
   "id": "a7fb7fd9da46ca3c"
  },
  {
   "cell_type": "code",
   "outputs": [
    {
     "data": {
      "text/plain": "'CHEMBL2041'"
     },
     "execution_count": 7,
     "metadata": {},
     "output_type": "execute_result"
    }
   ],
   "source": [
    "selected_target = targets.target_chembl_id[3]\n",
    "selected_target"
   ],
   "metadata": {
    "collapsed": false,
    "ExecuteTime": {
     "end_time": "2024-08-05T22:50:14.868796Z",
     "start_time": "2024-08-05T22:50:14.849365Z"
    }
   },
   "id": "ca220f2437bef49f",
   "execution_count": 7
  },
  {
   "cell_type": "markdown",
   "source": [
    "We will retrieve the bioactivity data for all entries in ChEMBL database and save it under a variable called **activity**. Then we will filter this bioactivity data to only match the ChEMBL id of our target protein (CHEMBL2041) and then filter to get entries with IC50 values under the column \"standard_type\". Here, we are interested in IC50, which will be reported as -log(IC50), as the measure of bioactivity."
   ],
   "metadata": {
    "collapsed": false
   },
   "id": "f9a4e638bf07f17a"
  },
  {
   "cell_type": "code",
   "outputs": [],
   "source": [
    "activity = new_client.activity\n",
    "res = activity.filter(target_chembl_id=selected_target).filter(standard_type='IC50')"
   ],
   "metadata": {
    "collapsed": false,
    "ExecuteTime": {
     "end_time": "2024-08-05T22:50:17.317104Z",
     "start_time": "2024-08-05T22:50:17.309876Z"
    }
   },
   "id": "6694e6e4090ae7c1",
   "execution_count": 8
  },
  {
   "cell_type": "markdown",
   "source": [
    "We are then going to take this filtered data and format it into a dataframe using the pandas package."
   ],
   "metadata": {
    "collapsed": false
   },
   "id": "5b51098f45c049de"
  },
  {
   "cell_type": "code",
   "outputs": [],
   "source": [
    "df = pd.DataFrame.from_dict(res)"
   ],
   "metadata": {
    "collapsed": false,
    "ExecuteTime": {
     "end_time": "2024-08-05T22:51:30.002132Z",
     "start_time": "2024-08-05T22:50:19.805555Z"
    }
   },
   "id": "856745d8fdba7f46",
   "execution_count": 9
  },
  {
   "cell_type": "code",
   "outputs": [
    {
     "data": {
      "text/plain": "                                            action_type activity_comment  \\\n0                                                  None             None   \n1                                                  None             None   \n2                                                  None             None   \n3                                                  None             None   \n4                                                  None             None   \n...                                                 ...              ...   \n1213  {'action_type': 'INHIBITOR', 'description': 'N...             None   \n1214  {'action_type': 'INHIBITOR', 'description': 'N...             None   \n1215  {'action_type': 'INHIBITOR', 'description': 'N...             None   \n1216  {'action_type': 'INHIBITOR', 'description': 'N...             None   \n1217  {'action_type': 'INHIBITOR', 'description': 'N...             None   \n\n      activity_id                                activity_properties  \\\n0          750656                                                 []   \n1         1701846                                                 []   \n2         1781988                                                 []   \n3         1815199                                                 []   \n4         1826436                                                 []   \n...           ...                                                ...   \n1213     25061413  [{'comments': None, 'relation': '=', 'result_f...   \n1214     25070302                                                 []   \n1215     25070303                                                 []   \n1216     25073450                                                 []   \n1217     25073451                                                 []   \n\n     assay_chembl_id                                  assay_description  \\\n0       CHEMBL770568                  Inhibition of RET kinase activity   \n1       CHEMBL861018                                  Inhibition of RET   \n2       CHEMBL911838                                  Inhibition of RET   \n3       CHEMBL908511                                  Inhibition of RET   \n4       CHEMBL919913                                  Inhibition of RET   \n...              ...                                                ...   \n1213   CHEMBL5250521  Inhibition of wild type rearranged during tran...   \n1214   CHEMBL5252761  Inhibition of RET (unknown origin) autophospho...   \n1215   CHEMBL5252761  Inhibition of RET (unknown origin) autophospho...   \n1216   CHEMBL5253679                 Inhibition of RET (unknown origin)   \n1217   CHEMBL5253679                 Inhibition of RET (unknown origin)   \n\n     assay_type assay_variant_accession assay_variant_mutation bao_endpoint  \\\n0             B                    None                   None  BAO_0000190   \n1             B                    None                   None  BAO_0000190   \n2             B                    None                   None  BAO_0000190   \n3             B                    None                   None  BAO_0000190   \n4             B                    None                   None  BAO_0000190   \n...         ...                     ...                    ...          ...   \n1213          B                    None                   None  BAO_0000190   \n1214          B                    None                   None  BAO_0000190   \n1215          B                    None                   None  BAO_0000190   \n1216          B                    None                   None  BAO_0000190   \n1217          B                    None                   None  BAO_0000190   \n\n      ... target_organism                      target_pref_name target_tax_id  \\\n0     ...    Homo sapiens  Tyrosine-protein kinase receptor RET          9606   \n1     ...    Homo sapiens  Tyrosine-protein kinase receptor RET          9606   \n2     ...    Homo sapiens  Tyrosine-protein kinase receptor RET          9606   \n3     ...    Homo sapiens  Tyrosine-protein kinase receptor RET          9606   \n4     ...    Homo sapiens  Tyrosine-protein kinase receptor RET          9606   \n...   ...             ...                                   ...           ...   \n1213  ...    Homo sapiens  Tyrosine-protein kinase receptor RET          9606   \n1214  ...    Homo sapiens  Tyrosine-protein kinase receptor RET          9606   \n1215  ...    Homo sapiens  Tyrosine-protein kinase receptor RET          9606   \n1216  ...    Homo sapiens  Tyrosine-protein kinase receptor RET          9606   \n1217  ...    Homo sapiens  Tyrosine-protein kinase receptor RET          9606   \n\n     text_value  toid  type units    uo_units upper_value    value  \n0          None  None  IC50    nM  UO_0000065        None  10000.0  \n1          None  None  IC50    uM  UO_0000065        None     40.0  \n2          None  None  IC50    uM  UO_0000065        None    0.031  \n3          None  None  IC50    nM  UO_0000065        None   8300.0  \n4          None  None  IC50    nM  UO_0000065        None   1900.0  \n...         ...   ...   ...   ...         ...         ...      ...  \n1213       None  None  IC50    nM  UO_0000065        None     12.0  \n1214       None  None  IC50    nM  UO_0000065        None     30.0  \n1215       None  None  IC50    nM  UO_0000065        None     30.0  \n1216       None  None  IC50    nM  UO_0000065        None    169.0  \n1217       None  None  IC50    nM  UO_0000065        None     17.0  \n\n[1218 rows x 46 columns]",
      "text/html": "<div>\n<style scoped>\n    .dataframe tbody tr th:only-of-type {\n        vertical-align: middle;\n    }\n\n    .dataframe tbody tr th {\n        vertical-align: top;\n    }\n\n    .dataframe thead th {\n        text-align: right;\n    }\n</style>\n<table border=\"1\" class=\"dataframe\">\n  <thead>\n    <tr style=\"text-align: right;\">\n      <th></th>\n      <th>action_type</th>\n      <th>activity_comment</th>\n      <th>activity_id</th>\n      <th>activity_properties</th>\n      <th>assay_chembl_id</th>\n      <th>assay_description</th>\n      <th>assay_type</th>\n      <th>assay_variant_accession</th>\n      <th>assay_variant_mutation</th>\n      <th>bao_endpoint</th>\n      <th>...</th>\n      <th>target_organism</th>\n      <th>target_pref_name</th>\n      <th>target_tax_id</th>\n      <th>text_value</th>\n      <th>toid</th>\n      <th>type</th>\n      <th>units</th>\n      <th>uo_units</th>\n      <th>upper_value</th>\n      <th>value</th>\n    </tr>\n  </thead>\n  <tbody>\n    <tr>\n      <th>0</th>\n      <td>None</td>\n      <td>None</td>\n      <td>750656</td>\n      <td>[]</td>\n      <td>CHEMBL770568</td>\n      <td>Inhibition of RET kinase activity</td>\n      <td>B</td>\n      <td>None</td>\n      <td>None</td>\n      <td>BAO_0000190</td>\n      <td>...</td>\n      <td>Homo sapiens</td>\n      <td>Tyrosine-protein kinase receptor RET</td>\n      <td>9606</td>\n      <td>None</td>\n      <td>None</td>\n      <td>IC50</td>\n      <td>nM</td>\n      <td>UO_0000065</td>\n      <td>None</td>\n      <td>10000.0</td>\n    </tr>\n    <tr>\n      <th>1</th>\n      <td>None</td>\n      <td>None</td>\n      <td>1701846</td>\n      <td>[]</td>\n      <td>CHEMBL861018</td>\n      <td>Inhibition of RET</td>\n      <td>B</td>\n      <td>None</td>\n      <td>None</td>\n      <td>BAO_0000190</td>\n      <td>...</td>\n      <td>Homo sapiens</td>\n      <td>Tyrosine-protein kinase receptor RET</td>\n      <td>9606</td>\n      <td>None</td>\n      <td>None</td>\n      <td>IC50</td>\n      <td>uM</td>\n      <td>UO_0000065</td>\n      <td>None</td>\n      <td>40.0</td>\n    </tr>\n    <tr>\n      <th>2</th>\n      <td>None</td>\n      <td>None</td>\n      <td>1781988</td>\n      <td>[]</td>\n      <td>CHEMBL911838</td>\n      <td>Inhibition of RET</td>\n      <td>B</td>\n      <td>None</td>\n      <td>None</td>\n      <td>BAO_0000190</td>\n      <td>...</td>\n      <td>Homo sapiens</td>\n      <td>Tyrosine-protein kinase receptor RET</td>\n      <td>9606</td>\n      <td>None</td>\n      <td>None</td>\n      <td>IC50</td>\n      <td>uM</td>\n      <td>UO_0000065</td>\n      <td>None</td>\n      <td>0.031</td>\n    </tr>\n    <tr>\n      <th>3</th>\n      <td>None</td>\n      <td>None</td>\n      <td>1815199</td>\n      <td>[]</td>\n      <td>CHEMBL908511</td>\n      <td>Inhibition of RET</td>\n      <td>B</td>\n      <td>None</td>\n      <td>None</td>\n      <td>BAO_0000190</td>\n      <td>...</td>\n      <td>Homo sapiens</td>\n      <td>Tyrosine-protein kinase receptor RET</td>\n      <td>9606</td>\n      <td>None</td>\n      <td>None</td>\n      <td>IC50</td>\n      <td>nM</td>\n      <td>UO_0000065</td>\n      <td>None</td>\n      <td>8300.0</td>\n    </tr>\n    <tr>\n      <th>4</th>\n      <td>None</td>\n      <td>None</td>\n      <td>1826436</td>\n      <td>[]</td>\n      <td>CHEMBL919913</td>\n      <td>Inhibition of RET</td>\n      <td>B</td>\n      <td>None</td>\n      <td>None</td>\n      <td>BAO_0000190</td>\n      <td>...</td>\n      <td>Homo sapiens</td>\n      <td>Tyrosine-protein kinase receptor RET</td>\n      <td>9606</td>\n      <td>None</td>\n      <td>None</td>\n      <td>IC50</td>\n      <td>nM</td>\n      <td>UO_0000065</td>\n      <td>None</td>\n      <td>1900.0</td>\n    </tr>\n    <tr>\n      <th>...</th>\n      <td>...</td>\n      <td>...</td>\n      <td>...</td>\n      <td>...</td>\n      <td>...</td>\n      <td>...</td>\n      <td>...</td>\n      <td>...</td>\n      <td>...</td>\n      <td>...</td>\n      <td>...</td>\n      <td>...</td>\n      <td>...</td>\n      <td>...</td>\n      <td>...</td>\n      <td>...</td>\n      <td>...</td>\n      <td>...</td>\n      <td>...</td>\n      <td>...</td>\n      <td>...</td>\n    </tr>\n    <tr>\n      <th>1213</th>\n      <td>{'action_type': 'INHIBITOR', 'description': 'N...</td>\n      <td>None</td>\n      <td>25061413</td>\n      <td>[{'comments': None, 'relation': '=', 'result_f...</td>\n      <td>CHEMBL5250521</td>\n      <td>Inhibition of wild type rearranged during tran...</td>\n      <td>B</td>\n      <td>None</td>\n      <td>None</td>\n      <td>BAO_0000190</td>\n      <td>...</td>\n      <td>Homo sapiens</td>\n      <td>Tyrosine-protein kinase receptor RET</td>\n      <td>9606</td>\n      <td>None</td>\n      <td>None</td>\n      <td>IC50</td>\n      <td>nM</td>\n      <td>UO_0000065</td>\n      <td>None</td>\n      <td>12.0</td>\n    </tr>\n    <tr>\n      <th>1214</th>\n      <td>{'action_type': 'INHIBITOR', 'description': 'N...</td>\n      <td>None</td>\n      <td>25070302</td>\n      <td>[]</td>\n      <td>CHEMBL5252761</td>\n      <td>Inhibition of RET (unknown origin) autophospho...</td>\n      <td>B</td>\n      <td>None</td>\n      <td>None</td>\n      <td>BAO_0000190</td>\n      <td>...</td>\n      <td>Homo sapiens</td>\n      <td>Tyrosine-protein kinase receptor RET</td>\n      <td>9606</td>\n      <td>None</td>\n      <td>None</td>\n      <td>IC50</td>\n      <td>nM</td>\n      <td>UO_0000065</td>\n      <td>None</td>\n      <td>30.0</td>\n    </tr>\n    <tr>\n      <th>1215</th>\n      <td>{'action_type': 'INHIBITOR', 'description': 'N...</td>\n      <td>None</td>\n      <td>25070303</td>\n      <td>[]</td>\n      <td>CHEMBL5252761</td>\n      <td>Inhibition of RET (unknown origin) autophospho...</td>\n      <td>B</td>\n      <td>None</td>\n      <td>None</td>\n      <td>BAO_0000190</td>\n      <td>...</td>\n      <td>Homo sapiens</td>\n      <td>Tyrosine-protein kinase receptor RET</td>\n      <td>9606</td>\n      <td>None</td>\n      <td>None</td>\n      <td>IC50</td>\n      <td>nM</td>\n      <td>UO_0000065</td>\n      <td>None</td>\n      <td>30.0</td>\n    </tr>\n    <tr>\n      <th>1216</th>\n      <td>{'action_type': 'INHIBITOR', 'description': 'N...</td>\n      <td>None</td>\n      <td>25073450</td>\n      <td>[]</td>\n      <td>CHEMBL5253679</td>\n      <td>Inhibition of RET (unknown origin)</td>\n      <td>B</td>\n      <td>None</td>\n      <td>None</td>\n      <td>BAO_0000190</td>\n      <td>...</td>\n      <td>Homo sapiens</td>\n      <td>Tyrosine-protein kinase receptor RET</td>\n      <td>9606</td>\n      <td>None</td>\n      <td>None</td>\n      <td>IC50</td>\n      <td>nM</td>\n      <td>UO_0000065</td>\n      <td>None</td>\n      <td>169.0</td>\n    </tr>\n    <tr>\n      <th>1217</th>\n      <td>{'action_type': 'INHIBITOR', 'description': 'N...</td>\n      <td>None</td>\n      <td>25073451</td>\n      <td>[]</td>\n      <td>CHEMBL5253679</td>\n      <td>Inhibition of RET (unknown origin)</td>\n      <td>B</td>\n      <td>None</td>\n      <td>None</td>\n      <td>BAO_0000190</td>\n      <td>...</td>\n      <td>Homo sapiens</td>\n      <td>Tyrosine-protein kinase receptor RET</td>\n      <td>9606</td>\n      <td>None</td>\n      <td>None</td>\n      <td>IC50</td>\n      <td>nM</td>\n      <td>UO_0000065</td>\n      <td>None</td>\n      <td>17.0</td>\n    </tr>\n  </tbody>\n</table>\n<p>1218 rows × 46 columns</p>\n</div>"
     },
     "execution_count": 10,
     "metadata": {},
     "output_type": "execute_result"
    }
   ],
   "source": [
    "df"
   ],
   "metadata": {
    "collapsed": false,
    "ExecuteTime": {
     "end_time": "2024-08-05T22:51:40.503107Z",
     "start_time": "2024-08-05T22:51:40.475595Z"
    }
   },
   "id": "665da39c5951000d",
   "execution_count": 10
  },
  {
   "cell_type": "markdown",
   "source": [
    "Next save the filtered data into a .csv file and export the file as **RET_03_bioactivity_data_raw.csv**"
   ],
   "metadata": {
    "collapsed": false
   },
   "id": "660c3cddb767da90"
  },
  {
   "cell_type": "code",
   "outputs": [],
   "source": [
    "df.to_csv(\"RET_03_bioactivity_data_raw.csv\", index = False)"
   ],
   "metadata": {
    "collapsed": false,
    "ExecuteTime": {
     "end_time": "2024-08-05T22:51:51.244168Z",
     "start_time": "2024-08-05T22:51:51.205643Z"
    }
   },
   "id": "734aae66f6f0818",
   "execution_count": 11
  },
  {
   "cell_type": "markdown",
   "source": [
    "## Handling Missing Data\n",
    "\n",
    "If we see that any of the compound in the curated dataset from the previous step is missing values for standard_value and canonical_smiles, we will remove these. Canonical smiles is the chemical formula representation of the molecule using a series of one-letter abbreviations of elements and lines."
   ],
   "metadata": {
    "collapsed": false
   },
   "id": "3e1b6de23f00c7f1"
  },
  {
   "cell_type": "code",
   "outputs": [
    {
     "name": "stderr",
     "output_type": "stream",
     "text": [
      "/var/folders/6r/nx6jkx254q31jrf83vmvvwhw0000gn/T/ipykernel_91954/3495133212.py:2: UserWarning: Boolean Series key will be reindexed to match DataFrame index.\n",
      "  df2 = df2[df.canonical_smiles.notna()]\n"
     ]
    },
    {
     "data": {
      "text/plain": "                                            action_type activity_comment  \\\n0                                                  None             None   \n1                                                  None             None   \n2                                                  None             None   \n3                                                  None             None   \n4                                                  None             None   \n...                                                 ...              ...   \n1213  {'action_type': 'INHIBITOR', 'description': 'N...             None   \n1214  {'action_type': 'INHIBITOR', 'description': 'N...             None   \n1215  {'action_type': 'INHIBITOR', 'description': 'N...             None   \n1216  {'action_type': 'INHIBITOR', 'description': 'N...             None   \n1217  {'action_type': 'INHIBITOR', 'description': 'N...             None   \n\n      activity_id                                activity_properties  \\\n0          750656                                                 []   \n1         1701846                                                 []   \n2         1781988                                                 []   \n3         1815199                                                 []   \n4         1826436                                                 []   \n...           ...                                                ...   \n1213     25061413  [{'comments': None, 'relation': '=', 'result_f...   \n1214     25070302                                                 []   \n1215     25070303                                                 []   \n1216     25073450                                                 []   \n1217     25073451                                                 []   \n\n     assay_chembl_id                                  assay_description  \\\n0       CHEMBL770568                  Inhibition of RET kinase activity   \n1       CHEMBL861018                                  Inhibition of RET   \n2       CHEMBL911838                                  Inhibition of RET   \n3       CHEMBL908511                                  Inhibition of RET   \n4       CHEMBL919913                                  Inhibition of RET   \n...              ...                                                ...   \n1213   CHEMBL5250521  Inhibition of wild type rearranged during tran...   \n1214   CHEMBL5252761  Inhibition of RET (unknown origin) autophospho...   \n1215   CHEMBL5252761  Inhibition of RET (unknown origin) autophospho...   \n1216   CHEMBL5253679                 Inhibition of RET (unknown origin)   \n1217   CHEMBL5253679                 Inhibition of RET (unknown origin)   \n\n     assay_type assay_variant_accession assay_variant_mutation bao_endpoint  \\\n0             B                    None                   None  BAO_0000190   \n1             B                    None                   None  BAO_0000190   \n2             B                    None                   None  BAO_0000190   \n3             B                    None                   None  BAO_0000190   \n4             B                    None                   None  BAO_0000190   \n...         ...                     ...                    ...          ...   \n1213          B                    None                   None  BAO_0000190   \n1214          B                    None                   None  BAO_0000190   \n1215          B                    None                   None  BAO_0000190   \n1216          B                    None                   None  BAO_0000190   \n1217          B                    None                   None  BAO_0000190   \n\n      ... target_organism                      target_pref_name target_tax_id  \\\n0     ...    Homo sapiens  Tyrosine-protein kinase receptor RET          9606   \n1     ...    Homo sapiens  Tyrosine-protein kinase receptor RET          9606   \n2     ...    Homo sapiens  Tyrosine-protein kinase receptor RET          9606   \n3     ...    Homo sapiens  Tyrosine-protein kinase receptor RET          9606   \n4     ...    Homo sapiens  Tyrosine-protein kinase receptor RET          9606   \n...   ...             ...                                   ...           ...   \n1213  ...    Homo sapiens  Tyrosine-protein kinase receptor RET          9606   \n1214  ...    Homo sapiens  Tyrosine-protein kinase receptor RET          9606   \n1215  ...    Homo sapiens  Tyrosine-protein kinase receptor RET          9606   \n1216  ...    Homo sapiens  Tyrosine-protein kinase receptor RET          9606   \n1217  ...    Homo sapiens  Tyrosine-protein kinase receptor RET          9606   \n\n     text_value  toid  type units    uo_units upper_value    value  \n0          None  None  IC50    nM  UO_0000065        None  10000.0  \n1          None  None  IC50    uM  UO_0000065        None     40.0  \n2          None  None  IC50    uM  UO_0000065        None    0.031  \n3          None  None  IC50    nM  UO_0000065        None   8300.0  \n4          None  None  IC50    nM  UO_0000065        None   1900.0  \n...         ...   ...   ...   ...         ...         ...      ...  \n1213       None  None  IC50    nM  UO_0000065        None     12.0  \n1214       None  None  IC50    nM  UO_0000065        None     30.0  \n1215       None  None  IC50    nM  UO_0000065        None     30.0  \n1216       None  None  IC50    nM  UO_0000065        None    169.0  \n1217       None  None  IC50    nM  UO_0000065        None     17.0  \n\n[1208 rows x 46 columns]",
      "text/html": "<div>\n<style scoped>\n    .dataframe tbody tr th:only-of-type {\n        vertical-align: middle;\n    }\n\n    .dataframe tbody tr th {\n        vertical-align: top;\n    }\n\n    .dataframe thead th {\n        text-align: right;\n    }\n</style>\n<table border=\"1\" class=\"dataframe\">\n  <thead>\n    <tr style=\"text-align: right;\">\n      <th></th>\n      <th>action_type</th>\n      <th>activity_comment</th>\n      <th>activity_id</th>\n      <th>activity_properties</th>\n      <th>assay_chembl_id</th>\n      <th>assay_description</th>\n      <th>assay_type</th>\n      <th>assay_variant_accession</th>\n      <th>assay_variant_mutation</th>\n      <th>bao_endpoint</th>\n      <th>...</th>\n      <th>target_organism</th>\n      <th>target_pref_name</th>\n      <th>target_tax_id</th>\n      <th>text_value</th>\n      <th>toid</th>\n      <th>type</th>\n      <th>units</th>\n      <th>uo_units</th>\n      <th>upper_value</th>\n      <th>value</th>\n    </tr>\n  </thead>\n  <tbody>\n    <tr>\n      <th>0</th>\n      <td>None</td>\n      <td>None</td>\n      <td>750656</td>\n      <td>[]</td>\n      <td>CHEMBL770568</td>\n      <td>Inhibition of RET kinase activity</td>\n      <td>B</td>\n      <td>None</td>\n      <td>None</td>\n      <td>BAO_0000190</td>\n      <td>...</td>\n      <td>Homo sapiens</td>\n      <td>Tyrosine-protein kinase receptor RET</td>\n      <td>9606</td>\n      <td>None</td>\n      <td>None</td>\n      <td>IC50</td>\n      <td>nM</td>\n      <td>UO_0000065</td>\n      <td>None</td>\n      <td>10000.0</td>\n    </tr>\n    <tr>\n      <th>1</th>\n      <td>None</td>\n      <td>None</td>\n      <td>1701846</td>\n      <td>[]</td>\n      <td>CHEMBL861018</td>\n      <td>Inhibition of RET</td>\n      <td>B</td>\n      <td>None</td>\n      <td>None</td>\n      <td>BAO_0000190</td>\n      <td>...</td>\n      <td>Homo sapiens</td>\n      <td>Tyrosine-protein kinase receptor RET</td>\n      <td>9606</td>\n      <td>None</td>\n      <td>None</td>\n      <td>IC50</td>\n      <td>uM</td>\n      <td>UO_0000065</td>\n      <td>None</td>\n      <td>40.0</td>\n    </tr>\n    <tr>\n      <th>2</th>\n      <td>None</td>\n      <td>None</td>\n      <td>1781988</td>\n      <td>[]</td>\n      <td>CHEMBL911838</td>\n      <td>Inhibition of RET</td>\n      <td>B</td>\n      <td>None</td>\n      <td>None</td>\n      <td>BAO_0000190</td>\n      <td>...</td>\n      <td>Homo sapiens</td>\n      <td>Tyrosine-protein kinase receptor RET</td>\n      <td>9606</td>\n      <td>None</td>\n      <td>None</td>\n      <td>IC50</td>\n      <td>uM</td>\n      <td>UO_0000065</td>\n      <td>None</td>\n      <td>0.031</td>\n    </tr>\n    <tr>\n      <th>3</th>\n      <td>None</td>\n      <td>None</td>\n      <td>1815199</td>\n      <td>[]</td>\n      <td>CHEMBL908511</td>\n      <td>Inhibition of RET</td>\n      <td>B</td>\n      <td>None</td>\n      <td>None</td>\n      <td>BAO_0000190</td>\n      <td>...</td>\n      <td>Homo sapiens</td>\n      <td>Tyrosine-protein kinase receptor RET</td>\n      <td>9606</td>\n      <td>None</td>\n      <td>None</td>\n      <td>IC50</td>\n      <td>nM</td>\n      <td>UO_0000065</td>\n      <td>None</td>\n      <td>8300.0</td>\n    </tr>\n    <tr>\n      <th>4</th>\n      <td>None</td>\n      <td>None</td>\n      <td>1826436</td>\n      <td>[]</td>\n      <td>CHEMBL919913</td>\n      <td>Inhibition of RET</td>\n      <td>B</td>\n      <td>None</td>\n      <td>None</td>\n      <td>BAO_0000190</td>\n      <td>...</td>\n      <td>Homo sapiens</td>\n      <td>Tyrosine-protein kinase receptor RET</td>\n      <td>9606</td>\n      <td>None</td>\n      <td>None</td>\n      <td>IC50</td>\n      <td>nM</td>\n      <td>UO_0000065</td>\n      <td>None</td>\n      <td>1900.0</td>\n    </tr>\n    <tr>\n      <th>...</th>\n      <td>...</td>\n      <td>...</td>\n      <td>...</td>\n      <td>...</td>\n      <td>...</td>\n      <td>...</td>\n      <td>...</td>\n      <td>...</td>\n      <td>...</td>\n      <td>...</td>\n      <td>...</td>\n      <td>...</td>\n      <td>...</td>\n      <td>...</td>\n      <td>...</td>\n      <td>...</td>\n      <td>...</td>\n      <td>...</td>\n      <td>...</td>\n      <td>...</td>\n      <td>...</td>\n    </tr>\n    <tr>\n      <th>1213</th>\n      <td>{'action_type': 'INHIBITOR', 'description': 'N...</td>\n      <td>None</td>\n      <td>25061413</td>\n      <td>[{'comments': None, 'relation': '=', 'result_f...</td>\n      <td>CHEMBL5250521</td>\n      <td>Inhibition of wild type rearranged during tran...</td>\n      <td>B</td>\n      <td>None</td>\n      <td>None</td>\n      <td>BAO_0000190</td>\n      <td>...</td>\n      <td>Homo sapiens</td>\n      <td>Tyrosine-protein kinase receptor RET</td>\n      <td>9606</td>\n      <td>None</td>\n      <td>None</td>\n      <td>IC50</td>\n      <td>nM</td>\n      <td>UO_0000065</td>\n      <td>None</td>\n      <td>12.0</td>\n    </tr>\n    <tr>\n      <th>1214</th>\n      <td>{'action_type': 'INHIBITOR', 'description': 'N...</td>\n      <td>None</td>\n      <td>25070302</td>\n      <td>[]</td>\n      <td>CHEMBL5252761</td>\n      <td>Inhibition of RET (unknown origin) autophospho...</td>\n      <td>B</td>\n      <td>None</td>\n      <td>None</td>\n      <td>BAO_0000190</td>\n      <td>...</td>\n      <td>Homo sapiens</td>\n      <td>Tyrosine-protein kinase receptor RET</td>\n      <td>9606</td>\n      <td>None</td>\n      <td>None</td>\n      <td>IC50</td>\n      <td>nM</td>\n      <td>UO_0000065</td>\n      <td>None</td>\n      <td>30.0</td>\n    </tr>\n    <tr>\n      <th>1215</th>\n      <td>{'action_type': 'INHIBITOR', 'description': 'N...</td>\n      <td>None</td>\n      <td>25070303</td>\n      <td>[]</td>\n      <td>CHEMBL5252761</td>\n      <td>Inhibition of RET (unknown origin) autophospho...</td>\n      <td>B</td>\n      <td>None</td>\n      <td>None</td>\n      <td>BAO_0000190</td>\n      <td>...</td>\n      <td>Homo sapiens</td>\n      <td>Tyrosine-protein kinase receptor RET</td>\n      <td>9606</td>\n      <td>None</td>\n      <td>None</td>\n      <td>IC50</td>\n      <td>nM</td>\n      <td>UO_0000065</td>\n      <td>None</td>\n      <td>30.0</td>\n    </tr>\n    <tr>\n      <th>1216</th>\n      <td>{'action_type': 'INHIBITOR', 'description': 'N...</td>\n      <td>None</td>\n      <td>25073450</td>\n      <td>[]</td>\n      <td>CHEMBL5253679</td>\n      <td>Inhibition of RET (unknown origin)</td>\n      <td>B</td>\n      <td>None</td>\n      <td>None</td>\n      <td>BAO_0000190</td>\n      <td>...</td>\n      <td>Homo sapiens</td>\n      <td>Tyrosine-protein kinase receptor RET</td>\n      <td>9606</td>\n      <td>None</td>\n      <td>None</td>\n      <td>IC50</td>\n      <td>nM</td>\n      <td>UO_0000065</td>\n      <td>None</td>\n      <td>169.0</td>\n    </tr>\n    <tr>\n      <th>1217</th>\n      <td>{'action_type': 'INHIBITOR', 'description': 'N...</td>\n      <td>None</td>\n      <td>25073451</td>\n      <td>[]</td>\n      <td>CHEMBL5253679</td>\n      <td>Inhibition of RET (unknown origin)</td>\n      <td>B</td>\n      <td>None</td>\n      <td>None</td>\n      <td>BAO_0000190</td>\n      <td>...</td>\n      <td>Homo sapiens</td>\n      <td>Tyrosine-protein kinase receptor RET</td>\n      <td>9606</td>\n      <td>None</td>\n      <td>None</td>\n      <td>IC50</td>\n      <td>nM</td>\n      <td>UO_0000065</td>\n      <td>None</td>\n      <td>17.0</td>\n    </tr>\n  </tbody>\n</table>\n<p>1208 rows × 46 columns</p>\n</div>"
     },
     "execution_count": 12,
     "metadata": {},
     "output_type": "execute_result"
    }
   ],
   "source": [
    "df2 = df[df.standard_value.notna()]\n",
    "df2 = df2[df.canonical_smiles.notna()]\n",
    "df2"
   ],
   "metadata": {
    "collapsed": false,
    "ExecuteTime": {
     "end_time": "2024-08-05T22:51:54.247821Z",
     "start_time": "2024-08-05T22:51:54.234575Z"
    }
   },
   "id": "3037f1ee6540fbb4",
   "execution_count": 12
  },
  {
   "cell_type": "markdown",
   "source": [
    "NOTE: The number of rows has reduced here from 1218 to 1208 (2024-08-04).\n",
    "\n",
    "We can see how many unique values are under the canonical_smiles column. Because this value refers to the chemical formula of the molecule, we only want entries that ech represent a different molecule. In other words, we don't want duplicate entries of the same molecule in this curated dataset."
   ],
   "metadata": {
    "collapsed": false
   },
   "id": "a18f7a20ab59b539"
  },
  {
   "cell_type": "code",
   "outputs": [
    {
     "data": {
      "text/plain": "896"
     },
     "execution_count": 13,
     "metadata": {},
     "output_type": "execute_result"
    }
   ],
   "source": [
    "len(df2.canonical_smiles.unique())"
   ],
   "metadata": {
    "collapsed": false,
    "ExecuteTime": {
     "end_time": "2024-08-05T22:51:59.062485Z",
     "start_time": "2024-08-05T22:51:59.054232Z"
    }
   },
   "id": "478eeece49e30499",
   "execution_count": 13
  },
  {
   "cell_type": "code",
   "outputs": [
    {
     "data": {
      "text/plain": "                                            action_type activity_comment  \\\n0                                                  None             None   \n1                                                  None             None   \n2                                                  None             None   \n3                                                  None             None   \n4                                                  None             None   \n...                                                 ...              ...   \n1211  {'action_type': 'INHIBITOR', 'description': 'N...             None   \n1212  {'action_type': 'INHIBITOR', 'description': 'N...             None   \n1213  {'action_type': 'INHIBITOR', 'description': 'N...             None   \n1214  {'action_type': 'INHIBITOR', 'description': 'N...             None   \n1215  {'action_type': 'INHIBITOR', 'description': 'N...             None   \n\n      activity_id                                activity_properties  \\\n0          750656                                                 []   \n1         1701846                                                 []   \n2         1781988                                                 []   \n3         1815199                                                 []   \n4         1826436                                                 []   \n...           ...                                                ...   \n1211     25061411  [{'comments': None, 'relation': '=', 'result_f...   \n1212     25061412  [{'comments': None, 'relation': '=', 'result_f...   \n1213     25061413  [{'comments': None, 'relation': '=', 'result_f...   \n1214     25070302                                                 []   \n1215     25070303                                                 []   \n\n     assay_chembl_id                                  assay_description  \\\n0       CHEMBL770568                  Inhibition of RET kinase activity   \n1       CHEMBL861018                                  Inhibition of RET   \n2       CHEMBL911838                                  Inhibition of RET   \n3       CHEMBL908511                                  Inhibition of RET   \n4       CHEMBL919913                                  Inhibition of RET   \n...              ...                                                ...   \n1211   CHEMBL5250521  Inhibition of wild type rearranged during tran...   \n1212   CHEMBL5250521  Inhibition of wild type rearranged during tran...   \n1213   CHEMBL5250521  Inhibition of wild type rearranged during tran...   \n1214   CHEMBL5252761  Inhibition of RET (unknown origin) autophospho...   \n1215   CHEMBL5252761  Inhibition of RET (unknown origin) autophospho...   \n\n     assay_type assay_variant_accession assay_variant_mutation bao_endpoint  \\\n0             B                    None                   None  BAO_0000190   \n1             B                    None                   None  BAO_0000190   \n2             B                    None                   None  BAO_0000190   \n3             B                    None                   None  BAO_0000190   \n4             B                    None                   None  BAO_0000190   \n...         ...                     ...                    ...          ...   \n1211          B                    None                   None  BAO_0000190   \n1212          B                    None                   None  BAO_0000190   \n1213          B                    None                   None  BAO_0000190   \n1214          B                    None                   None  BAO_0000190   \n1215          B                    None                   None  BAO_0000190   \n\n      ... target_organism                      target_pref_name target_tax_id  \\\n0     ...    Homo sapiens  Tyrosine-protein kinase receptor RET          9606   \n1     ...    Homo sapiens  Tyrosine-protein kinase receptor RET          9606   \n2     ...    Homo sapiens  Tyrosine-protein kinase receptor RET          9606   \n3     ...    Homo sapiens  Tyrosine-protein kinase receptor RET          9606   \n4     ...    Homo sapiens  Tyrosine-protein kinase receptor RET          9606   \n...   ...             ...                                   ...           ...   \n1211  ...    Homo sapiens  Tyrosine-protein kinase receptor RET          9606   \n1212  ...    Homo sapiens  Tyrosine-protein kinase receptor RET          9606   \n1213  ...    Homo sapiens  Tyrosine-protein kinase receptor RET          9606   \n1214  ...    Homo sapiens  Tyrosine-protein kinase receptor RET          9606   \n1215  ...    Homo sapiens  Tyrosine-protein kinase receptor RET          9606   \n\n     text_value  toid  type units    uo_units upper_value    value  \n0          None  None  IC50    nM  UO_0000065        None  10000.0  \n1          None  None  IC50    uM  UO_0000065        None     40.0  \n2          None  None  IC50    uM  UO_0000065        None    0.031  \n3          None  None  IC50    nM  UO_0000065        None   8300.0  \n4          None  None  IC50    nM  UO_0000065        None   1900.0  \n...         ...   ...   ...   ...         ...         ...      ...  \n1211       None  None  IC50    nM  UO_0000065        None    136.0  \n1212       None  None  IC50    nM  UO_0000065        None     11.2  \n1213       None  None  IC50    nM  UO_0000065        None     12.0  \n1214       None  None  IC50    nM  UO_0000065        None     30.0  \n1215       None  None  IC50    nM  UO_0000065        None     30.0  \n\n[896 rows x 46 columns]",
      "text/html": "<div>\n<style scoped>\n    .dataframe tbody tr th:only-of-type {\n        vertical-align: middle;\n    }\n\n    .dataframe tbody tr th {\n        vertical-align: top;\n    }\n\n    .dataframe thead th {\n        text-align: right;\n    }\n</style>\n<table border=\"1\" class=\"dataframe\">\n  <thead>\n    <tr style=\"text-align: right;\">\n      <th></th>\n      <th>action_type</th>\n      <th>activity_comment</th>\n      <th>activity_id</th>\n      <th>activity_properties</th>\n      <th>assay_chembl_id</th>\n      <th>assay_description</th>\n      <th>assay_type</th>\n      <th>assay_variant_accession</th>\n      <th>assay_variant_mutation</th>\n      <th>bao_endpoint</th>\n      <th>...</th>\n      <th>target_organism</th>\n      <th>target_pref_name</th>\n      <th>target_tax_id</th>\n      <th>text_value</th>\n      <th>toid</th>\n      <th>type</th>\n      <th>units</th>\n      <th>uo_units</th>\n      <th>upper_value</th>\n      <th>value</th>\n    </tr>\n  </thead>\n  <tbody>\n    <tr>\n      <th>0</th>\n      <td>None</td>\n      <td>None</td>\n      <td>750656</td>\n      <td>[]</td>\n      <td>CHEMBL770568</td>\n      <td>Inhibition of RET kinase activity</td>\n      <td>B</td>\n      <td>None</td>\n      <td>None</td>\n      <td>BAO_0000190</td>\n      <td>...</td>\n      <td>Homo sapiens</td>\n      <td>Tyrosine-protein kinase receptor RET</td>\n      <td>9606</td>\n      <td>None</td>\n      <td>None</td>\n      <td>IC50</td>\n      <td>nM</td>\n      <td>UO_0000065</td>\n      <td>None</td>\n      <td>10000.0</td>\n    </tr>\n    <tr>\n      <th>1</th>\n      <td>None</td>\n      <td>None</td>\n      <td>1701846</td>\n      <td>[]</td>\n      <td>CHEMBL861018</td>\n      <td>Inhibition of RET</td>\n      <td>B</td>\n      <td>None</td>\n      <td>None</td>\n      <td>BAO_0000190</td>\n      <td>...</td>\n      <td>Homo sapiens</td>\n      <td>Tyrosine-protein kinase receptor RET</td>\n      <td>9606</td>\n      <td>None</td>\n      <td>None</td>\n      <td>IC50</td>\n      <td>uM</td>\n      <td>UO_0000065</td>\n      <td>None</td>\n      <td>40.0</td>\n    </tr>\n    <tr>\n      <th>2</th>\n      <td>None</td>\n      <td>None</td>\n      <td>1781988</td>\n      <td>[]</td>\n      <td>CHEMBL911838</td>\n      <td>Inhibition of RET</td>\n      <td>B</td>\n      <td>None</td>\n      <td>None</td>\n      <td>BAO_0000190</td>\n      <td>...</td>\n      <td>Homo sapiens</td>\n      <td>Tyrosine-protein kinase receptor RET</td>\n      <td>9606</td>\n      <td>None</td>\n      <td>None</td>\n      <td>IC50</td>\n      <td>uM</td>\n      <td>UO_0000065</td>\n      <td>None</td>\n      <td>0.031</td>\n    </tr>\n    <tr>\n      <th>3</th>\n      <td>None</td>\n      <td>None</td>\n      <td>1815199</td>\n      <td>[]</td>\n      <td>CHEMBL908511</td>\n      <td>Inhibition of RET</td>\n      <td>B</td>\n      <td>None</td>\n      <td>None</td>\n      <td>BAO_0000190</td>\n      <td>...</td>\n      <td>Homo sapiens</td>\n      <td>Tyrosine-protein kinase receptor RET</td>\n      <td>9606</td>\n      <td>None</td>\n      <td>None</td>\n      <td>IC50</td>\n      <td>nM</td>\n      <td>UO_0000065</td>\n      <td>None</td>\n      <td>8300.0</td>\n    </tr>\n    <tr>\n      <th>4</th>\n      <td>None</td>\n      <td>None</td>\n      <td>1826436</td>\n      <td>[]</td>\n      <td>CHEMBL919913</td>\n      <td>Inhibition of RET</td>\n      <td>B</td>\n      <td>None</td>\n      <td>None</td>\n      <td>BAO_0000190</td>\n      <td>...</td>\n      <td>Homo sapiens</td>\n      <td>Tyrosine-protein kinase receptor RET</td>\n      <td>9606</td>\n      <td>None</td>\n      <td>None</td>\n      <td>IC50</td>\n      <td>nM</td>\n      <td>UO_0000065</td>\n      <td>None</td>\n      <td>1900.0</td>\n    </tr>\n    <tr>\n      <th>...</th>\n      <td>...</td>\n      <td>...</td>\n      <td>...</td>\n      <td>...</td>\n      <td>...</td>\n      <td>...</td>\n      <td>...</td>\n      <td>...</td>\n      <td>...</td>\n      <td>...</td>\n      <td>...</td>\n      <td>...</td>\n      <td>...</td>\n      <td>...</td>\n      <td>...</td>\n      <td>...</td>\n      <td>...</td>\n      <td>...</td>\n      <td>...</td>\n      <td>...</td>\n      <td>...</td>\n    </tr>\n    <tr>\n      <th>1211</th>\n      <td>{'action_type': 'INHIBITOR', 'description': 'N...</td>\n      <td>None</td>\n      <td>25061411</td>\n      <td>[{'comments': None, 'relation': '=', 'result_f...</td>\n      <td>CHEMBL5250521</td>\n      <td>Inhibition of wild type rearranged during tran...</td>\n      <td>B</td>\n      <td>None</td>\n      <td>None</td>\n      <td>BAO_0000190</td>\n      <td>...</td>\n      <td>Homo sapiens</td>\n      <td>Tyrosine-protein kinase receptor RET</td>\n      <td>9606</td>\n      <td>None</td>\n      <td>None</td>\n      <td>IC50</td>\n      <td>nM</td>\n      <td>UO_0000065</td>\n      <td>None</td>\n      <td>136.0</td>\n    </tr>\n    <tr>\n      <th>1212</th>\n      <td>{'action_type': 'INHIBITOR', 'description': 'N...</td>\n      <td>None</td>\n      <td>25061412</td>\n      <td>[{'comments': None, 'relation': '=', 'result_f...</td>\n      <td>CHEMBL5250521</td>\n      <td>Inhibition of wild type rearranged during tran...</td>\n      <td>B</td>\n      <td>None</td>\n      <td>None</td>\n      <td>BAO_0000190</td>\n      <td>...</td>\n      <td>Homo sapiens</td>\n      <td>Tyrosine-protein kinase receptor RET</td>\n      <td>9606</td>\n      <td>None</td>\n      <td>None</td>\n      <td>IC50</td>\n      <td>nM</td>\n      <td>UO_0000065</td>\n      <td>None</td>\n      <td>11.2</td>\n    </tr>\n    <tr>\n      <th>1213</th>\n      <td>{'action_type': 'INHIBITOR', 'description': 'N...</td>\n      <td>None</td>\n      <td>25061413</td>\n      <td>[{'comments': None, 'relation': '=', 'result_f...</td>\n      <td>CHEMBL5250521</td>\n      <td>Inhibition of wild type rearranged during tran...</td>\n      <td>B</td>\n      <td>None</td>\n      <td>None</td>\n      <td>BAO_0000190</td>\n      <td>...</td>\n      <td>Homo sapiens</td>\n      <td>Tyrosine-protein kinase receptor RET</td>\n      <td>9606</td>\n      <td>None</td>\n      <td>None</td>\n      <td>IC50</td>\n      <td>nM</td>\n      <td>UO_0000065</td>\n      <td>None</td>\n      <td>12.0</td>\n    </tr>\n    <tr>\n      <th>1214</th>\n      <td>{'action_type': 'INHIBITOR', 'description': 'N...</td>\n      <td>None</td>\n      <td>25070302</td>\n      <td>[]</td>\n      <td>CHEMBL5252761</td>\n      <td>Inhibition of RET (unknown origin) autophospho...</td>\n      <td>B</td>\n      <td>None</td>\n      <td>None</td>\n      <td>BAO_0000190</td>\n      <td>...</td>\n      <td>Homo sapiens</td>\n      <td>Tyrosine-protein kinase receptor RET</td>\n      <td>9606</td>\n      <td>None</td>\n      <td>None</td>\n      <td>IC50</td>\n      <td>nM</td>\n      <td>UO_0000065</td>\n      <td>None</td>\n      <td>30.0</td>\n    </tr>\n    <tr>\n      <th>1215</th>\n      <td>{'action_type': 'INHIBITOR', 'description': 'N...</td>\n      <td>None</td>\n      <td>25070303</td>\n      <td>[]</td>\n      <td>CHEMBL5252761</td>\n      <td>Inhibition of RET (unknown origin) autophospho...</td>\n      <td>B</td>\n      <td>None</td>\n      <td>None</td>\n      <td>BAO_0000190</td>\n      <td>...</td>\n      <td>Homo sapiens</td>\n      <td>Tyrosine-protein kinase receptor RET</td>\n      <td>9606</td>\n      <td>None</td>\n      <td>None</td>\n      <td>IC50</td>\n      <td>nM</td>\n      <td>UO_0000065</td>\n      <td>None</td>\n      <td>30.0</td>\n    </tr>\n  </tbody>\n</table>\n<p>896 rows × 46 columns</p>\n</div>"
     },
     "execution_count": 14,
     "metadata": {},
     "output_type": "execute_result"
    }
   ],
   "source": [
    "df2_nr = df2.drop_duplicates(['canonical_smiles'])\n",
    "df2_nr"
   ],
   "metadata": {
    "collapsed": false,
    "ExecuteTime": {
     "end_time": "2024-08-05T22:52:00.140446Z",
     "start_time": "2024-08-05T22:52:00.109158Z"
    }
   },
   "id": "a6062025a5118cd0",
   "execution_count": 14
  },
  {
   "cell_type": "markdown",
   "source": [
    "Now we have a curated dataset that includes unique molecules that have unique canonical smiles or chemical formulas."
   ],
   "metadata": {
    "collapsed": false
   },
   "id": "e5eeb0a3e46da519"
  },
  {
   "cell_type": "markdown",
   "source": [
    "# Data Pre-Processing of the bioactivity data\n",
    "\n",
    "## Combining 3 columns (molecule_chembl_id, canonical_smiles, standard_value) and bioactivity_class into a DataFrame "
   ],
   "metadata": {
    "collapsed": false
   },
   "id": "e930d2102e5be7da"
  },
  {
   "cell_type": "code",
   "outputs": [
    {
     "data": {
      "text/plain": "     molecule_chembl_id                                   canonical_smiles  \\\n0          CHEMBL115220             O=C(Cc1ccc2ccccc2c1)Nc1cc(C2CC2)n[nH]1   \n1            CHEMBL6246         O=c1oc2c(O)c(O)cc3c(=O)oc4c(O)c(O)cc1c4c23   \n2          CHEMBL402548  CO[C@@H](C(=O)N1Cc2[nH]nc(NC(=O)c3ccc(N4CCN(C)...   \n3          CHEMBL373882  CNc1ncnc(-c2cccnc2Oc2ccc(F)c(C(=O)Nc3cc(C(F)(F...   \n4          CHEMBL223360  Cc1ccc(F)c(NC(=O)Nc2ccc(-c3cccc4[nH]nc(N)c34)c...   \n...                 ...                                                ...   \n1211      CHEMBL5289571  COc1cc2nccc(Oc3ccc(Nc4nn(C)cc4C(=O)NC45CC6CC(C...   \n1212      CHEMBL5268831  Cn1cc(C(=O)NC23CC4CC(CC(C4)C2)C3)c(Nc2ccc(Oc3c...   \n1213      CHEMBL5284144  Cn1cc(C(=O)NC23CC4CC(CC(C4)C2)C3)c(Nc2ccc(Oc3c...   \n1214      CHEMBL4080062  O=C(Nc1cccc(C(F)(F)F)c1)c1cccc2cc(Oc3cc(CO)ncn...   \n1215      CHEMBL4104297  Nc1nccc(Oc2ccc3c(C(=O)Nc4cccc(C(F)(F)F)c4)cccc...   \n\n     standard_value  \n0           10000.0  \n1           40000.0  \n2              31.0  \n3            8300.0  \n4            1900.0  \n...             ...  \n1211          136.0  \n1212           11.2  \n1213           12.0  \n1214           30.0  \n1215           30.0  \n\n[896 rows x 3 columns]",
      "text/html": "<div>\n<style scoped>\n    .dataframe tbody tr th:only-of-type {\n        vertical-align: middle;\n    }\n\n    .dataframe tbody tr th {\n        vertical-align: top;\n    }\n\n    .dataframe thead th {\n        text-align: right;\n    }\n</style>\n<table border=\"1\" class=\"dataframe\">\n  <thead>\n    <tr style=\"text-align: right;\">\n      <th></th>\n      <th>molecule_chembl_id</th>\n      <th>canonical_smiles</th>\n      <th>standard_value</th>\n    </tr>\n  </thead>\n  <tbody>\n    <tr>\n      <th>0</th>\n      <td>CHEMBL115220</td>\n      <td>O=C(Cc1ccc2ccccc2c1)Nc1cc(C2CC2)n[nH]1</td>\n      <td>10000.0</td>\n    </tr>\n    <tr>\n      <th>1</th>\n      <td>CHEMBL6246</td>\n      <td>O=c1oc2c(O)c(O)cc3c(=O)oc4c(O)c(O)cc1c4c23</td>\n      <td>40000.0</td>\n    </tr>\n    <tr>\n      <th>2</th>\n      <td>CHEMBL402548</td>\n      <td>CO[C@@H](C(=O)N1Cc2[nH]nc(NC(=O)c3ccc(N4CCN(C)...</td>\n      <td>31.0</td>\n    </tr>\n    <tr>\n      <th>3</th>\n      <td>CHEMBL373882</td>\n      <td>CNc1ncnc(-c2cccnc2Oc2ccc(F)c(C(=O)Nc3cc(C(F)(F...</td>\n      <td>8300.0</td>\n    </tr>\n    <tr>\n      <th>4</th>\n      <td>CHEMBL223360</td>\n      <td>Cc1ccc(F)c(NC(=O)Nc2ccc(-c3cccc4[nH]nc(N)c34)c...</td>\n      <td>1900.0</td>\n    </tr>\n    <tr>\n      <th>...</th>\n      <td>...</td>\n      <td>...</td>\n      <td>...</td>\n    </tr>\n    <tr>\n      <th>1211</th>\n      <td>CHEMBL5289571</td>\n      <td>COc1cc2nccc(Oc3ccc(Nc4nn(C)cc4C(=O)NC45CC6CC(C...</td>\n      <td>136.0</td>\n    </tr>\n    <tr>\n      <th>1212</th>\n      <td>CHEMBL5268831</td>\n      <td>Cn1cc(C(=O)NC23CC4CC(CC(C4)C2)C3)c(Nc2ccc(Oc3c...</td>\n      <td>11.2</td>\n    </tr>\n    <tr>\n      <th>1213</th>\n      <td>CHEMBL5284144</td>\n      <td>Cn1cc(C(=O)NC23CC4CC(CC(C4)C2)C3)c(Nc2ccc(Oc3c...</td>\n      <td>12.0</td>\n    </tr>\n    <tr>\n      <th>1214</th>\n      <td>CHEMBL4080062</td>\n      <td>O=C(Nc1cccc(C(F)(F)F)c1)c1cccc2cc(Oc3cc(CO)ncn...</td>\n      <td>30.0</td>\n    </tr>\n    <tr>\n      <th>1215</th>\n      <td>CHEMBL4104297</td>\n      <td>Nc1nccc(Oc2ccc3c(C(=O)Nc4cccc(C(F)(F)F)c4)cccc...</td>\n      <td>30.0</td>\n    </tr>\n  </tbody>\n</table>\n<p>896 rows × 3 columns</p>\n</div>"
     },
     "execution_count": 15,
     "metadata": {},
     "output_type": "execute_result"
    }
   ],
   "source": [
    "selection = ['molecule_chembl_id', 'canonical_smiles', 'standard_value']\n",
    "df3 = df2_nr[selection]\n",
    "df3"
   ],
   "metadata": {
    "collapsed": false,
    "ExecuteTime": {
     "end_time": "2024-08-05T22:52:04.418113Z",
     "start_time": "2024-08-05T22:52:04.412705Z"
    }
   },
   "id": "6f182cd888db4218",
   "execution_count": 15
  },
  {
   "cell_type": "markdown",
   "source": [
    "Save the DataFrame into a csv file."
   ],
   "metadata": {
    "collapsed": false
   },
   "id": "40d16825bd106fdd"
  },
  {
   "cell_type": "code",
   "outputs": [],
   "source": [
    "df3.to_csv(\"RET_03_bioactivity_data_preprocessed.csv\", index=False)"
   ],
   "metadata": {
    "collapsed": false,
    "ExecuteTime": {
     "end_time": "2024-08-05T22:52:08.245266Z",
     "start_time": "2024-08-05T22:52:08.221952Z"
    }
   },
   "id": "737c9e6c72655008",
   "execution_count": 16
  },
  {
   "cell_type": "markdown",
   "source": [
    "## Labeling compounds as active, inactive or intermediate\n",
    "\n",
    "Here, we use the IC50 value as the unit for bioactivity of the molecule. \n",
    "\n",
    "**Active**: Values less than or equal to 1,000 nM\n",
    "**Inactive**: Values more than or equal to 10,000 nM\n",
    "**Intermediate**: Values between 1,000 and 10,000 nM\n",
    "\n",
    "We are going read the pre-processed csv file from the previous step."
   ],
   "metadata": {
    "collapsed": false
   },
   "id": "52fbcc5aa2435f37"
  },
  {
   "cell_type": "code",
   "outputs": [],
   "source": [
    "df4 = pd.read_csv(\"RET_03_bioactivity_data_preprocessed.csv\")"
   ],
   "metadata": {
    "collapsed": false,
    "ExecuteTime": {
     "end_time": "2024-08-05T22:52:11.052822Z",
     "start_time": "2024-08-05T22:52:11.029416Z"
    }
   },
   "id": "573de6629f5a2078",
   "execution_count": 17
  },
  {
   "cell_type": "markdown",
   "source": [
    "Then we are going to create a list object named bioactivity_threshold that will hold the appropriate identifier with each molecule in the row of the preprocessed data. "
   ],
   "metadata": {
    "collapsed": false
   },
   "id": "833b680ba5d970aa"
  },
  {
   "cell_type": "code",
   "outputs": [],
   "source": [
    "bioactivity_threshold = []\n",
    "\n",
    "for i in df4.standard_value:\n",
    "    if i <= 1000:\n",
    "        bioactivity_threshold.append('active')\n",
    "    elif i >= 10000:\n",
    "        bioactivity_threshold.append('inactive')\n",
    "    else:\n",
    "        bioactivity_threshold.append('intermediate')"
   ],
   "metadata": {
    "collapsed": false,
    "ExecuteTime": {
     "end_time": "2024-08-05T22:52:14.427249Z",
     "start_time": "2024-08-05T22:52:14.415798Z"
    }
   },
   "id": "18118e61974c9da8",
   "execution_count": 18
  },
  {
   "cell_type": "markdown",
   "source": [
    "We will then take the list object and convert into a series (an object in pandas package that is like a column in a table) and name it **class**. Then concatenate the class column with the pre-processed dataframe (df4) into a new dataframe named 'df5'"
   ],
   "metadata": {
    "collapsed": false
   },
   "id": "eaa8a31e93fbbe5c"
  },
  {
   "cell_type": "code",
   "outputs": [
    {
     "data": {
      "text/plain": "    molecule_chembl_id                                   canonical_smiles  \\\n0         CHEMBL115220             O=C(Cc1ccc2ccccc2c1)Nc1cc(C2CC2)n[nH]1   \n1           CHEMBL6246         O=c1oc2c(O)c(O)cc3c(=O)oc4c(O)c(O)cc1c4c23   \n2         CHEMBL402548  CO[C@@H](C(=O)N1Cc2[nH]nc(NC(=O)c3ccc(N4CCN(C)...   \n3         CHEMBL373882  CNc1ncnc(-c2cccnc2Oc2ccc(F)c(C(=O)Nc3cc(C(F)(F...   \n4         CHEMBL223360  Cc1ccc(F)c(NC(=O)Nc2ccc(-c3cccc4[nH]nc(N)c34)c...   \n..                 ...                                                ...   \n891      CHEMBL5289571  COc1cc2nccc(Oc3ccc(Nc4nn(C)cc4C(=O)NC45CC6CC(C...   \n892      CHEMBL5268831  Cn1cc(C(=O)NC23CC4CC(CC(C4)C2)C3)c(Nc2ccc(Oc3c...   \n893      CHEMBL5284144  Cn1cc(C(=O)NC23CC4CC(CC(C4)C2)C3)c(Nc2ccc(Oc3c...   \n894      CHEMBL4080062  O=C(Nc1cccc(C(F)(F)F)c1)c1cccc2cc(Oc3cc(CO)ncn...   \n895      CHEMBL4104297  Nc1nccc(Oc2ccc3c(C(=O)Nc4cccc(C(F)(F)F)c4)cccc...   \n\n     standard_value bioactivity_class  \n0           10000.0          inactive  \n1           40000.0          inactive  \n2              31.0            active  \n3            8300.0      intermediate  \n4            1900.0      intermediate  \n..              ...               ...  \n891           136.0            active  \n892            11.2            active  \n893            12.0            active  \n894            30.0            active  \n895            30.0            active  \n\n[896 rows x 4 columns]",
      "text/html": "<div>\n<style scoped>\n    .dataframe tbody tr th:only-of-type {\n        vertical-align: middle;\n    }\n\n    .dataframe tbody tr th {\n        vertical-align: top;\n    }\n\n    .dataframe thead th {\n        text-align: right;\n    }\n</style>\n<table border=\"1\" class=\"dataframe\">\n  <thead>\n    <tr style=\"text-align: right;\">\n      <th></th>\n      <th>molecule_chembl_id</th>\n      <th>canonical_smiles</th>\n      <th>standard_value</th>\n      <th>bioactivity_class</th>\n    </tr>\n  </thead>\n  <tbody>\n    <tr>\n      <th>0</th>\n      <td>CHEMBL115220</td>\n      <td>O=C(Cc1ccc2ccccc2c1)Nc1cc(C2CC2)n[nH]1</td>\n      <td>10000.0</td>\n      <td>inactive</td>\n    </tr>\n    <tr>\n      <th>1</th>\n      <td>CHEMBL6246</td>\n      <td>O=c1oc2c(O)c(O)cc3c(=O)oc4c(O)c(O)cc1c4c23</td>\n      <td>40000.0</td>\n      <td>inactive</td>\n    </tr>\n    <tr>\n      <th>2</th>\n      <td>CHEMBL402548</td>\n      <td>CO[C@@H](C(=O)N1Cc2[nH]nc(NC(=O)c3ccc(N4CCN(C)...</td>\n      <td>31.0</td>\n      <td>active</td>\n    </tr>\n    <tr>\n      <th>3</th>\n      <td>CHEMBL373882</td>\n      <td>CNc1ncnc(-c2cccnc2Oc2ccc(F)c(C(=O)Nc3cc(C(F)(F...</td>\n      <td>8300.0</td>\n      <td>intermediate</td>\n    </tr>\n    <tr>\n      <th>4</th>\n      <td>CHEMBL223360</td>\n      <td>Cc1ccc(F)c(NC(=O)Nc2ccc(-c3cccc4[nH]nc(N)c34)c...</td>\n      <td>1900.0</td>\n      <td>intermediate</td>\n    </tr>\n    <tr>\n      <th>...</th>\n      <td>...</td>\n      <td>...</td>\n      <td>...</td>\n      <td>...</td>\n    </tr>\n    <tr>\n      <th>891</th>\n      <td>CHEMBL5289571</td>\n      <td>COc1cc2nccc(Oc3ccc(Nc4nn(C)cc4C(=O)NC45CC6CC(C...</td>\n      <td>136.0</td>\n      <td>active</td>\n    </tr>\n    <tr>\n      <th>892</th>\n      <td>CHEMBL5268831</td>\n      <td>Cn1cc(C(=O)NC23CC4CC(CC(C4)C2)C3)c(Nc2ccc(Oc3c...</td>\n      <td>11.2</td>\n      <td>active</td>\n    </tr>\n    <tr>\n      <th>893</th>\n      <td>CHEMBL5284144</td>\n      <td>Cn1cc(C(=O)NC23CC4CC(CC(C4)C2)C3)c(Nc2ccc(Oc3c...</td>\n      <td>12.0</td>\n      <td>active</td>\n    </tr>\n    <tr>\n      <th>894</th>\n      <td>CHEMBL4080062</td>\n      <td>O=C(Nc1cccc(C(F)(F)F)c1)c1cccc2cc(Oc3cc(CO)ncn...</td>\n      <td>30.0</td>\n      <td>active</td>\n    </tr>\n    <tr>\n      <th>895</th>\n      <td>CHEMBL4104297</td>\n      <td>Nc1nccc(Oc2ccc3c(C(=O)Nc4cccc(C(F)(F)F)c4)cccc...</td>\n      <td>30.0</td>\n      <td>active</td>\n    </tr>\n  </tbody>\n</table>\n<p>896 rows × 4 columns</p>\n</div>"
     },
     "execution_count": 19,
     "metadata": {},
     "output_type": "execute_result"
    }
   ],
   "source": [
    "bioactivity_class = pd.Series(bioactivity_threshold, name='bioactivity_class')\n",
    "df5 = pd.concat([df4, bioactivity_class], axis=1)\n",
    "df5"
   ],
   "metadata": {
    "collapsed": false,
    "ExecuteTime": {
     "end_time": "2024-08-05T22:52:18.093852Z",
     "start_time": "2024-08-05T22:52:18.088784Z"
    }
   },
   "id": "6876e39991ad16b4",
   "execution_count": 19
  },
  {
   "cell_type": "markdown",
   "source": [
    "NOTE: you should have 4 columns here.\n",
    "\n",
    "Save the new dataframe into a new CSV file called 'RET_03_bioactivity_data_curated.csv'"
   ],
   "metadata": {
    "collapsed": false
   },
   "id": "9245d1cecb052467"
  },
  {
   "cell_type": "code",
   "outputs": [],
   "source": [
    "df5.to_csv(\"RET_03_bioactivity_data_curated.csv\", index=False)"
   ],
   "metadata": {
    "collapsed": false,
    "ExecuteTime": {
     "end_time": "2024-08-05T22:52:21.827038Z",
     "start_time": "2024-08-05T22:52:21.807744Z"
    }
   },
   "id": "8693000c5ec42228",
   "execution_count": 20
  },
  {
   "cell_type": "markdown",
   "source": [
    "Save all the csv files from this notebook into a zip file called \"RET\""
   ],
   "metadata": {
    "collapsed": false
   },
   "id": "ea809107bae92b2e"
  },
  {
   "cell_type": "code",
   "outputs": [
    {
     "ename": "OSError",
     "evalue": "\"/usr/local/bin/bash\" shell not found",
     "output_type": "error",
     "traceback": [
      "\u001B[0;31m---------------------------------------------------------------------------\u001B[0m",
      "\u001B[0;31mOSError\u001B[0m                                   Traceback (most recent call last)",
      "Cell \u001B[0;32mIn[21], line 1\u001B[0m\n\u001B[0;32m----> 1\u001B[0m \u001B[43mget_ipython\u001B[49m\u001B[43m(\u001B[49m\u001B[43m)\u001B[49m\u001B[38;5;241;43m.\u001B[39;49m\u001B[43msystem\u001B[49m\u001B[43m(\u001B[49m\u001B[38;5;124;43m'\u001B[39;49m\u001B[38;5;124;43m zip RET.zip *.csv\u001B[39;49m\u001B[38;5;124;43m'\u001B[39;49m\u001B[43m)\u001B[49m\n",
      "File \u001B[0;32m~/PycharmProjects/Bioinformatics Project/.venv/lib/python3.12/site-packages/ipykernel/zmqshell.py:657\u001B[0m, in \u001B[0;36mZMQInteractiveShell.system_piped\u001B[0;34m(self, cmd)\u001B[0m\n\u001B[1;32m    655\u001B[0m         \u001B[38;5;28mself\u001B[39m\u001B[38;5;241m.\u001B[39muser_ns[\u001B[38;5;124m\"\u001B[39m\u001B[38;5;124m_exit_code\u001B[39m\u001B[38;5;124m\"\u001B[39m] \u001B[38;5;241m=\u001B[39m system(cmd)\n\u001B[1;32m    656\u001B[0m \u001B[38;5;28;01melse\u001B[39;00m:\n\u001B[0;32m--> 657\u001B[0m     \u001B[38;5;28mself\u001B[39m\u001B[38;5;241m.\u001B[39muser_ns[\u001B[38;5;124m\"\u001B[39m\u001B[38;5;124m_exit_code\u001B[39m\u001B[38;5;124m\"\u001B[39m] \u001B[38;5;241m=\u001B[39m \u001B[43msystem\u001B[49m\u001B[43m(\u001B[49m\u001B[38;5;28;43mself\u001B[39;49m\u001B[38;5;241;43m.\u001B[39;49m\u001B[43mvar_expand\u001B[49m\u001B[43m(\u001B[49m\u001B[43mcmd\u001B[49m\u001B[43m,\u001B[49m\u001B[43m \u001B[49m\u001B[43mdepth\u001B[49m\u001B[38;5;241;43m=\u001B[39;49m\u001B[38;5;241;43m1\u001B[39;49m\u001B[43m)\u001B[49m\u001B[43m)\u001B[49m\n",
      "File \u001B[0;32m~/PycharmProjects/Bioinformatics Project/.venv/lib/python3.12/site-packages/IPython/utils/_process_posix.py:151\u001B[0m, in \u001B[0;36mProcessHandler.system\u001B[0;34m(self, cmd)\u001B[0m\n\u001B[1;32m    149\u001B[0m     child \u001B[38;5;241m=\u001B[39m pexpect\u001B[38;5;241m.\u001B[39mspawnb(\u001B[38;5;28mself\u001B[39m\u001B[38;5;241m.\u001B[39msh, args\u001B[38;5;241m=\u001B[39m[\u001B[38;5;124m'\u001B[39m\u001B[38;5;124m-c\u001B[39m\u001B[38;5;124m'\u001B[39m, cmd]) \u001B[38;5;66;03m# Pexpect-U\u001B[39;00m\n\u001B[1;32m    150\u001B[0m \u001B[38;5;28;01melse\u001B[39;00m:\n\u001B[0;32m--> 151\u001B[0m     child \u001B[38;5;241m=\u001B[39m pexpect\u001B[38;5;241m.\u001B[39mspawn(\u001B[38;5;28;43mself\u001B[39;49m\u001B[38;5;241;43m.\u001B[39;49m\u001B[43msh\u001B[49m, args\u001B[38;5;241m=\u001B[39m[\u001B[38;5;124m'\u001B[39m\u001B[38;5;124m-c\u001B[39m\u001B[38;5;124m'\u001B[39m, cmd])  \u001B[38;5;66;03m# Vanilla Pexpect\u001B[39;00m\n\u001B[1;32m    152\u001B[0m flush \u001B[38;5;241m=\u001B[39m sys\u001B[38;5;241m.\u001B[39mstdout\u001B[38;5;241m.\u001B[39mflush\n\u001B[1;32m    153\u001B[0m \u001B[38;5;28;01mwhile\u001B[39;00m \u001B[38;5;28;01mTrue\u001B[39;00m:\n\u001B[1;32m    154\u001B[0m     \u001B[38;5;66;03m# res is the index of the pattern that caused the match, so we\u001B[39;00m\n\u001B[1;32m    155\u001B[0m     \u001B[38;5;66;03m# know whether we've finished (if we matched EOF) or not\u001B[39;00m\n",
      "File \u001B[0;32m~/PycharmProjects/Bioinformatics Project/.venv/lib/python3.12/site-packages/IPython/utils/_process_posix.py:56\u001B[0m, in \u001B[0;36mProcessHandler.sh\u001B[0;34m(self)\u001B[0m\n\u001B[1;32m     54\u001B[0m     \u001B[38;5;28mself\u001B[39m\u001B[38;5;241m.\u001B[39m_sh \u001B[38;5;241m=\u001B[39m pexpect\u001B[38;5;241m.\u001B[39mwhich(shell_name)\n\u001B[1;32m     55\u001B[0m     \u001B[38;5;28;01mif\u001B[39;00m \u001B[38;5;28mself\u001B[39m\u001B[38;5;241m.\u001B[39m_sh \u001B[38;5;129;01mis\u001B[39;00m \u001B[38;5;28;01mNone\u001B[39;00m:\n\u001B[0;32m---> 56\u001B[0m         \u001B[38;5;28;01mraise\u001B[39;00m \u001B[38;5;167;01mOSError\u001B[39;00m(\u001B[38;5;124m'\u001B[39m\u001B[38;5;124m\"\u001B[39m\u001B[38;5;132;01m{}\u001B[39;00m\u001B[38;5;124m\"\u001B[39m\u001B[38;5;124m shell not found\u001B[39m\u001B[38;5;124m'\u001B[39m\u001B[38;5;241m.\u001B[39mformat(shell_name))\n\u001B[1;32m     58\u001B[0m \u001B[38;5;28;01mreturn\u001B[39;00m \u001B[38;5;28mself\u001B[39m\u001B[38;5;241m.\u001B[39m_sh\n",
      "\u001B[0;31mOSError\u001B[0m: \"/usr/local/bin/bash\" shell not found"
     ]
    }
   ],
   "source": [
    "! zip RET.zip *.csv"
   ],
   "metadata": {
    "collapsed": false,
    "ExecuteTime": {
     "end_time": "2024-08-05T22:52:25.329039Z",
     "start_time": "2024-08-05T22:52:25.298316Z"
    }
   },
   "id": "e2ca6f0c5e7cff8d",
   "execution_count": 21
  },
  {
   "cell_type": "code",
   "outputs": [
    {
     "ename": "OSError",
     "evalue": "\"/usr/local/bin/bash\" shell not found",
     "output_type": "error",
     "traceback": [
      "\u001B[0;31m---------------------------------------------------------------------------\u001B[0m",
      "\u001B[0;31mOSError\u001B[0m                                   Traceback (most recent call last)",
      "Cell \u001B[0;32mIn[22], line 1\u001B[0m\n\u001B[0;32m----> 1\u001B[0m \u001B[43mget_ipython\u001B[49m\u001B[43m(\u001B[49m\u001B[43m)\u001B[49m\u001B[38;5;241;43m.\u001B[39;49m\u001B[43msystem\u001B[49m\u001B[43m(\u001B[49m\u001B[38;5;124;43m'\u001B[39;49m\u001B[38;5;124;43m ls -l\u001B[39;49m\u001B[38;5;124;43m'\u001B[39;49m\u001B[43m)\u001B[49m\n",
      "File \u001B[0;32m~/PycharmProjects/Bioinformatics Project/.venv/lib/python3.12/site-packages/ipykernel/zmqshell.py:657\u001B[0m, in \u001B[0;36mZMQInteractiveShell.system_piped\u001B[0;34m(self, cmd)\u001B[0m\n\u001B[1;32m    655\u001B[0m         \u001B[38;5;28mself\u001B[39m\u001B[38;5;241m.\u001B[39muser_ns[\u001B[38;5;124m\"\u001B[39m\u001B[38;5;124m_exit_code\u001B[39m\u001B[38;5;124m\"\u001B[39m] \u001B[38;5;241m=\u001B[39m system(cmd)\n\u001B[1;32m    656\u001B[0m \u001B[38;5;28;01melse\u001B[39;00m:\n\u001B[0;32m--> 657\u001B[0m     \u001B[38;5;28mself\u001B[39m\u001B[38;5;241m.\u001B[39muser_ns[\u001B[38;5;124m\"\u001B[39m\u001B[38;5;124m_exit_code\u001B[39m\u001B[38;5;124m\"\u001B[39m] \u001B[38;5;241m=\u001B[39m \u001B[43msystem\u001B[49m\u001B[43m(\u001B[49m\u001B[38;5;28;43mself\u001B[39;49m\u001B[38;5;241;43m.\u001B[39;49m\u001B[43mvar_expand\u001B[49m\u001B[43m(\u001B[49m\u001B[43mcmd\u001B[49m\u001B[43m,\u001B[49m\u001B[43m \u001B[49m\u001B[43mdepth\u001B[49m\u001B[38;5;241;43m=\u001B[39;49m\u001B[38;5;241;43m1\u001B[39;49m\u001B[43m)\u001B[49m\u001B[43m)\u001B[49m\n",
      "File \u001B[0;32m~/PycharmProjects/Bioinformatics Project/.venv/lib/python3.12/site-packages/IPython/utils/_process_posix.py:151\u001B[0m, in \u001B[0;36mProcessHandler.system\u001B[0;34m(self, cmd)\u001B[0m\n\u001B[1;32m    149\u001B[0m     child \u001B[38;5;241m=\u001B[39m pexpect\u001B[38;5;241m.\u001B[39mspawnb(\u001B[38;5;28mself\u001B[39m\u001B[38;5;241m.\u001B[39msh, args\u001B[38;5;241m=\u001B[39m[\u001B[38;5;124m'\u001B[39m\u001B[38;5;124m-c\u001B[39m\u001B[38;5;124m'\u001B[39m, cmd]) \u001B[38;5;66;03m# Pexpect-U\u001B[39;00m\n\u001B[1;32m    150\u001B[0m \u001B[38;5;28;01melse\u001B[39;00m:\n\u001B[0;32m--> 151\u001B[0m     child \u001B[38;5;241m=\u001B[39m pexpect\u001B[38;5;241m.\u001B[39mspawn(\u001B[38;5;28;43mself\u001B[39;49m\u001B[38;5;241;43m.\u001B[39;49m\u001B[43msh\u001B[49m, args\u001B[38;5;241m=\u001B[39m[\u001B[38;5;124m'\u001B[39m\u001B[38;5;124m-c\u001B[39m\u001B[38;5;124m'\u001B[39m, cmd])  \u001B[38;5;66;03m# Vanilla Pexpect\u001B[39;00m\n\u001B[1;32m    152\u001B[0m flush \u001B[38;5;241m=\u001B[39m sys\u001B[38;5;241m.\u001B[39mstdout\u001B[38;5;241m.\u001B[39mflush\n\u001B[1;32m    153\u001B[0m \u001B[38;5;28;01mwhile\u001B[39;00m \u001B[38;5;28;01mTrue\u001B[39;00m:\n\u001B[1;32m    154\u001B[0m     \u001B[38;5;66;03m# res is the index of the pattern that caused the match, so we\u001B[39;00m\n\u001B[1;32m    155\u001B[0m     \u001B[38;5;66;03m# know whether we've finished (if we matched EOF) or not\u001B[39;00m\n",
      "File \u001B[0;32m~/PycharmProjects/Bioinformatics Project/.venv/lib/python3.12/site-packages/IPython/utils/_process_posix.py:56\u001B[0m, in \u001B[0;36mProcessHandler.sh\u001B[0;34m(self)\u001B[0m\n\u001B[1;32m     54\u001B[0m     \u001B[38;5;28mself\u001B[39m\u001B[38;5;241m.\u001B[39m_sh \u001B[38;5;241m=\u001B[39m pexpect\u001B[38;5;241m.\u001B[39mwhich(shell_name)\n\u001B[1;32m     55\u001B[0m     \u001B[38;5;28;01mif\u001B[39;00m \u001B[38;5;28mself\u001B[39m\u001B[38;5;241m.\u001B[39m_sh \u001B[38;5;129;01mis\u001B[39;00m \u001B[38;5;28;01mNone\u001B[39;00m:\n\u001B[0;32m---> 56\u001B[0m         \u001B[38;5;28;01mraise\u001B[39;00m \u001B[38;5;167;01mOSError\u001B[39;00m(\u001B[38;5;124m'\u001B[39m\u001B[38;5;124m\"\u001B[39m\u001B[38;5;132;01m{}\u001B[39;00m\u001B[38;5;124m\"\u001B[39m\u001B[38;5;124m shell not found\u001B[39m\u001B[38;5;124m'\u001B[39m\u001B[38;5;241m.\u001B[39mformat(shell_name))\n\u001B[1;32m     58\u001B[0m \u001B[38;5;28;01mreturn\u001B[39;00m \u001B[38;5;28mself\u001B[39m\u001B[38;5;241m.\u001B[39m_sh\n",
      "\u001B[0;31mOSError\u001B[0m: \"/usr/local/bin/bash\" shell not found"
     ]
    }
   ],
   "source": [
    "! ls -l"
   ],
   "metadata": {
    "collapsed": false,
    "ExecuteTime": {
     "end_time": "2024-08-05T22:53:07.974315Z",
     "start_time": "2024-08-05T22:53:07.931051Z"
    }
   },
   "id": "cbe9a5c7f17a54d8",
   "execution_count": 22
  }
 ],
 "metadata": {
  "kernelspec": {
   "display_name": "Python 3",
   "language": "python",
   "name": "python3"
  },
  "language_info": {
   "codemirror_mode": {
    "name": "ipython",
    "version": 2
   },
   "file_extension": ".py",
   "mimetype": "text/x-python",
   "name": "python",
   "nbconvert_exporter": "python",
   "pygments_lexer": "ipython2",
   "version": "2.7.6"
  }
 },
 "nbformat": 4,
 "nbformat_minor": 5
}
